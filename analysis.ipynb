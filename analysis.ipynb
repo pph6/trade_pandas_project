{
 "cells": [
  {
   "cell_type": "markdown",
   "metadata": {},
   "source": [
    "# pandas exploration\n",
    "In this assignment you will select a data set and do some munging and analysis of it using `pandas`, Jupyter Notebooks, and associated Python-centric data science tools."
   ]
  },
  {
   "cell_type": "markdown",
   "metadata": {},
   "source": [
    "Import the core data science libraries:"
   ]
  },
  {
   "cell_type": "code",
   "execution_count": 1,
   "metadata": {},
   "outputs": [],
   "source": [
    "%matplotlib inline\n",
    "import matplotlib.pyplot as plt\n",
    "import numpy as np\n",
    "import pandas as pd"
   ]
  },
  {
   "cell_type": "markdown",
   "metadata": {},
   "source": [
    "## Import the raw data\n",
    "In this section, you will import the raw data into a `pandas` DataFrame."
   ]
  },
  {
   "cell_type": "code",
   "execution_count": 497,
   "metadata": {},
   "outputs": [],
   "source": [
    "# place your code into this Code cell\n",
    "data = pd.read_csv (r'data/MBSComtrade.csv')"
   ]
  },
  {
   "cell_type": "markdown",
   "metadata": {},
   "source": [
    "Data link: https://unstats.un.org/unsd/trade/data/tables.asp"
   ]
  },
  {
   "cell_type": "markdown",
   "metadata": {},
   "source": [
    "## Data inspection\n",
    "In this section, you will show enough of your data for a viewer to get a general sense of how the data is structured and any unique features of it.  Complete each of the indicated tasks in a Code cell, making sure to include a Markdown cell above each Code cell that explains what is being shown by the code.  \n",
    "- Show 5 rows, selected at random, from the data set.\n",
    "- Show each of the column names and their data types.\n",
    "- Show any unique features of your chosen data set.\n",
    "\n",
    "Feel free to add as many additional cells as you need to help explain the raw data."
   ]
  },
  {
   "cell_type": "code",
   "execution_count": 151,
   "metadata": {},
   "outputs": [
    {
     "data": {
      "text/html": [
       "<div>\n",
       "<style scoped>\n",
       "    .dataframe tbody tr th:only-of-type {\n",
       "        vertical-align: middle;\n",
       "    }\n",
       "\n",
       "    .dataframe tbody tr th {\n",
       "        vertical-align: top;\n",
       "    }\n",
       "\n",
       "    .dataframe thead th {\n",
       "        text-align: right;\n",
       "    }\n",
       "</style>\n",
       "<table border=\"1\" class=\"dataframe\">\n",
       "  <thead>\n",
       "    <tr style=\"text-align: right;\">\n",
       "      <th></th>\n",
       "      <th>series_type</th>\n",
       "      <th>table_type</th>\n",
       "      <th>table_type_desc</th>\n",
       "      <th>country_code</th>\n",
       "      <th>country_type</th>\n",
       "      <th>country_english_name</th>\n",
       "      <th>year</th>\n",
       "      <th>period_type</th>\n",
       "      <th>period_number</th>\n",
       "      <th>period</th>\n",
       "      <th>...</th>\n",
       "      <th>partner_country_code</th>\n",
       "      <th>partner_country_english_name</th>\n",
       "      <th>base_year</th>\n",
       "      <th>currency_type</th>\n",
       "      <th>value</th>\n",
       "      <th>value_unit</th>\n",
       "      <th>value_type</th>\n",
       "      <th>value_type_desc</th>\n",
       "      <th>estimation_type</th>\n",
       "      <th>estimation_type_desc</th>\n",
       "    </tr>\n",
       "  </thead>\n",
       "  <tbody>\n",
       "    <tr>\n",
       "      <th>933</th>\n",
       "      <td>T36.A.P.</td>\n",
       "      <td>T36</td>\n",
       "      <td>Total trade - value, volume, unit value</td>\n",
       "      <td>36</td>\n",
       "      <td>C</td>\n",
       "      <td>Australia</td>\n",
       "      <td>1984</td>\n",
       "      <td>A</td>\n",
       "      <td>0</td>\n",
       "      <td>198452</td>\n",
       "      <td>...</td>\n",
       "      <td>0</td>\n",
       "      <td>World</td>\n",
       "      <td>2000</td>\n",
       "      <td>NaN</td>\n",
       "      <td>65.535887</td>\n",
       "      <td>NaN</td>\n",
       "      <td>P</td>\n",
       "      <td>Price</td>\n",
       "      <td>A</td>\n",
       "      <td>Actual</td>\n",
       "    </tr>\n",
       "    <tr>\n",
       "      <th>620</th>\n",
       "      <td>T36.A.P.</td>\n",
       "      <td>T36</td>\n",
       "      <td>Total trade - value, volume, unit value</td>\n",
       "      <td>300</td>\n",
       "      <td>C</td>\n",
       "      <td>Greece</td>\n",
       "      <td>1975</td>\n",
       "      <td>A</td>\n",
       "      <td>0</td>\n",
       "      <td>197552</td>\n",
       "      <td>...</td>\n",
       "      <td>0</td>\n",
       "      <td>World</td>\n",
       "      <td>2000</td>\n",
       "      <td>NaN</td>\n",
       "      <td>4.208012</td>\n",
       "      <td>NaN</td>\n",
       "      <td>P</td>\n",
       "      <td>Price</td>\n",
       "      <td>A</td>\n",
       "      <td>Actual</td>\n",
       "    </tr>\n",
       "    <tr>\n",
       "      <th>1614</th>\n",
       "      <td>T36.A.P.</td>\n",
       "      <td>T36</td>\n",
       "      <td>Total trade - value, volume, unit value</td>\n",
       "      <td>702</td>\n",
       "      <td>C</td>\n",
       "      <td>Singapore</td>\n",
       "      <td>2000</td>\n",
       "      <td>A</td>\n",
       "      <td>0</td>\n",
       "      <td>200052</td>\n",
       "      <td>...</td>\n",
       "      <td>0</td>\n",
       "      <td>World</td>\n",
       "      <td>2000</td>\n",
       "      <td>NaN</td>\n",
       "      <td>100.000000</td>\n",
       "      <td>NaN</td>\n",
       "      <td>P</td>\n",
       "      <td>Price</td>\n",
       "      <td>A</td>\n",
       "      <td>Actual</td>\n",
       "    </tr>\n",
       "    <tr>\n",
       "      <th>2104</th>\n",
       "      <td>T36.A.P.</td>\n",
       "      <td>T36</td>\n",
       "      <td>Total trade - value, volume, unit value</td>\n",
       "      <td>862</td>\n",
       "      <td>C</td>\n",
       "      <td>Venezuela (Bolivarian Rep. of)</td>\n",
       "      <td>2010</td>\n",
       "      <td>A</td>\n",
       "      <td>0</td>\n",
       "      <td>201052</td>\n",
       "      <td>...</td>\n",
       "      <td>0</td>\n",
       "      <td>World</td>\n",
       "      <td>2000</td>\n",
       "      <td>NaN</td>\n",
       "      <td>895.495657</td>\n",
       "      <td>NaN</td>\n",
       "      <td>P</td>\n",
       "      <td>Price</td>\n",
       "      <td>A</td>\n",
       "      <td>Actual</td>\n",
       "    </tr>\n",
       "    <tr>\n",
       "      <th>1471</th>\n",
       "      <td>T36.A.P.</td>\n",
       "      <td>T36</td>\n",
       "      <td>Total trade - value, volume, unit value</td>\n",
       "      <td>616</td>\n",
       "      <td>C</td>\n",
       "      <td>Poland</td>\n",
       "      <td>1997</td>\n",
       "      <td>A</td>\n",
       "      <td>0</td>\n",
       "      <td>199752</td>\n",
       "      <td>...</td>\n",
       "      <td>0</td>\n",
       "      <td>World</td>\n",
       "      <td>2000</td>\n",
       "      <td>NaN</td>\n",
       "      <td>85.814985</td>\n",
       "      <td>NaN</td>\n",
       "      <td>P</td>\n",
       "      <td>Price</td>\n",
       "      <td>A</td>\n",
       "      <td>Actual</td>\n",
       "    </tr>\n",
       "  </tbody>\n",
       "</table>\n",
       "<p>5 rows × 25 columns</p>\n",
       "</div>"
      ],
      "text/plain": [
       "     series_type table_type                          table_type_desc  \\\n",
       "933     T36.A.P.        T36  Total trade - value, volume, unit value   \n",
       "620     T36.A.P.        T36  Total trade - value, volume, unit value   \n",
       "1614    T36.A.P.        T36  Total trade - value, volume, unit value   \n",
       "2104    T36.A.P.        T36  Total trade - value, volume, unit value   \n",
       "1471    T36.A.P.        T36  Total trade - value, volume, unit value   \n",
       "\n",
       "      country_code country_type            country_english_name  year  \\\n",
       "933             36            C                       Australia  1984   \n",
       "620            300            C                          Greece  1975   \n",
       "1614           702            C                       Singapore  2000   \n",
       "2104           862            C  Venezuela (Bolivarian Rep. of)  2010   \n",
       "1471           616            C                          Poland  1997   \n",
       "\n",
       "     period_type  period_number  period  ... partner_country_code  \\\n",
       "933            A              0  198452  ...                    0   \n",
       "620            A              0  197552  ...                    0   \n",
       "1614           A              0  200052  ...                    0   \n",
       "2104           A              0  201052  ...                    0   \n",
       "1471           A              0  199752  ...                    0   \n",
       "\n",
       "     partner_country_english_name base_year  currency_type       value  \\\n",
       "933                         World      2000            NaN   65.535887   \n",
       "620                         World      2000            NaN    4.208012   \n",
       "1614                        World      2000            NaN  100.000000   \n",
       "2104                        World      2000            NaN  895.495657   \n",
       "1471                        World      2000            NaN   85.814985   \n",
       "\n",
       "      value_unit value_type  value_type_desc  estimation_type  \\\n",
       "933          NaN          P            Price                A   \n",
       "620          NaN          P            Price                A   \n",
       "1614         NaN          P            Price                A   \n",
       "2104         NaN          P            Price                A   \n",
       "1471         NaN          P            Price                A   \n",
       "\n",
       "      estimation_type_desc  \n",
       "933                 Actual  \n",
       "620                 Actual  \n",
       "1614                Actual  \n",
       "2104                Actual  \n",
       "1471                Actual  \n",
       "\n",
       "[5 rows x 25 columns]"
      ]
     },
     "execution_count": 151,
     "metadata": {},
     "output_type": "execute_result"
    }
   ],
   "source": [
    "data.sample(5)"
   ]
  },
  {
   "cell_type": "code",
   "execution_count": 152,
   "metadata": {
    "scrolled": false
   },
   "outputs": [
    {
     "data": {
      "text/plain": [
       "series_type                      object\n",
       "table_type                       object\n",
       "table_type_desc                  object\n",
       "country_code                      int64\n",
       "country_type                     object\n",
       "country_english_name             object\n",
       "year                              int64\n",
       "period_type                      object\n",
       "period_number                     int64\n",
       "period                            int64\n",
       "period_in_date                   object\n",
       "trade_flow                       object\n",
       "trade_flow_desc                  object\n",
       "commodity_group_code              int64\n",
       "commodity_group_name             object\n",
       "partner_country_code              int64\n",
       "partner_country_english_name     object\n",
       "base_year                         int64\n",
       "currency_type                   float64\n",
       "value                           float64\n",
       "value_unit                      float64\n",
       "value_type                       object\n",
       "value_type_desc                  object\n",
       "estimation_type                  object\n",
       "estimation_type_desc             object\n",
       "dtype: object"
      ]
     },
     "execution_count": 152,
     "metadata": {},
     "output_type": "execute_result"
    }
   ],
   "source": [
    "data.dtypes"
   ]
  },
  {
   "cell_type": "code",
   "execution_count": 218,
   "metadata": {},
   "outputs": [
    {
     "data": {
      "text/html": [
       "<div>\n",
       "<style scoped>\n",
       "    .dataframe tbody tr th:only-of-type {\n",
       "        vertical-align: middle;\n",
       "    }\n",
       "\n",
       "    .dataframe tbody tr th {\n",
       "        vertical-align: top;\n",
       "    }\n",
       "\n",
       "    .dataframe thead th {\n",
       "        text-align: right;\n",
       "    }\n",
       "</style>\n",
       "<table border=\"1\" class=\"dataframe\">\n",
       "  <thead>\n",
       "    <tr style=\"text-align: right;\">\n",
       "      <th></th>\n",
       "      <th>country_code</th>\n",
       "      <th>year</th>\n",
       "      <th>period_number</th>\n",
       "      <th>period</th>\n",
       "      <th>commodity_group_code</th>\n",
       "      <th>partner_country_code</th>\n",
       "      <th>base_year</th>\n",
       "      <th>value</th>\n",
       "    </tr>\n",
       "  </thead>\n",
       "  <tbody>\n",
       "    <tr>\n",
       "      <th>count</th>\n",
       "      <td>2538.000000</td>\n",
       "      <td>2538.000000</td>\n",
       "      <td>2538.0</td>\n",
       "      <td>2538.000000</td>\n",
       "      <td>2538.0</td>\n",
       "      <td>2538.0</td>\n",
       "      <td>2538.0</td>\n",
       "      <td>2538.000000</td>\n",
       "    </tr>\n",
       "    <tr>\n",
       "      <th>mean</th>\n",
       "      <td>445.088258</td>\n",
       "      <td>1990.176517</td>\n",
       "      <td>0.0</td>\n",
       "      <td>199069.651694</td>\n",
       "      <td>1.0</td>\n",
       "      <td>0.0</td>\n",
       "      <td>2000.0</td>\n",
       "      <td>81.468952</td>\n",
       "    </tr>\n",
       "    <tr>\n",
       "      <th>std</th>\n",
       "      <td>255.062491</td>\n",
       "      <td>19.073917</td>\n",
       "      <td>0.0</td>\n",
       "      <td>1907.391717</td>\n",
       "      <td>0.0</td>\n",
       "      <td>0.0</td>\n",
       "      <td>0.0</td>\n",
       "      <td>135.566760</td>\n",
       "    </tr>\n",
       "    <tr>\n",
       "      <th>min</th>\n",
       "      <td>36.000000</td>\n",
       "      <td>1946.000000</td>\n",
       "      <td>0.0</td>\n",
       "      <td>194652.000000</td>\n",
       "      <td>1.0</td>\n",
       "      <td>0.0</td>\n",
       "      <td>2000.0</td>\n",
       "      <td>0.072954</td>\n",
       "    </tr>\n",
       "    <tr>\n",
       "      <th>25%</th>\n",
       "      <td>246.000000</td>\n",
       "      <td>1975.000000</td>\n",
       "      <td>0.0</td>\n",
       "      <td>197552.000000</td>\n",
       "      <td>1.0</td>\n",
       "      <td>0.0</td>\n",
       "      <td>2000.0</td>\n",
       "      <td>29.502922</td>\n",
       "    </tr>\n",
       "    <tr>\n",
       "      <th>50%</th>\n",
       "      <td>410.000000</td>\n",
       "      <td>1992.000000</td>\n",
       "      <td>0.0</td>\n",
       "      <td>199252.000000</td>\n",
       "      <td>1.0</td>\n",
       "      <td>0.0</td>\n",
       "      <td>2000.0</td>\n",
       "      <td>88.349208</td>\n",
       "    </tr>\n",
       "    <tr>\n",
       "      <th>75%</th>\n",
       "      <td>620.000000</td>\n",
       "      <td>2006.000000</td>\n",
       "      <td>0.0</td>\n",
       "      <td>200652.000000</td>\n",
       "      <td>1.0</td>\n",
       "      <td>0.0</td>\n",
       "      <td>2000.0</td>\n",
       "      <td>106.155526</td>\n",
       "    </tr>\n",
       "    <tr>\n",
       "      <th>max</th>\n",
       "      <td>862.000000</td>\n",
       "      <td>2020.000000</td>\n",
       "      <td>0.0</td>\n",
       "      <td>202052.000000</td>\n",
       "      <td>1.0</td>\n",
       "      <td>0.0</td>\n",
       "      <td>2000.0</td>\n",
       "      <td>5551.177577</td>\n",
       "    </tr>\n",
       "  </tbody>\n",
       "</table>\n",
       "</div>"
      ],
      "text/plain": [
       "       country_code         year  period_number         period  \\\n",
       "count   2538.000000  2538.000000         2538.0    2538.000000   \n",
       "mean     445.088258  1990.176517            0.0  199069.651694   \n",
       "std      255.062491    19.073917            0.0    1907.391717   \n",
       "min       36.000000  1946.000000            0.0  194652.000000   \n",
       "25%      246.000000  1975.000000            0.0  197552.000000   \n",
       "50%      410.000000  1992.000000            0.0  199252.000000   \n",
       "75%      620.000000  2006.000000            0.0  200652.000000   \n",
       "max      862.000000  2020.000000            0.0  202052.000000   \n",
       "\n",
       "       commodity_group_code  partner_country_code  base_year        value  \n",
       "count                2538.0                2538.0     2538.0  2538.000000  \n",
       "mean                    1.0                   0.0     2000.0    81.468952  \n",
       "std                     0.0                   0.0        0.0   135.566760  \n",
       "min                     1.0                   0.0     2000.0     0.072954  \n",
       "25%                     1.0                   0.0     2000.0    29.502922  \n",
       "50%                     1.0                   0.0     2000.0    88.349208  \n",
       "75%                     1.0                   0.0     2000.0   106.155526  \n",
       "max                     1.0                   0.0     2000.0  5551.177577  "
      ]
     },
     "execution_count": 218,
     "metadata": {},
     "output_type": "execute_result"
    }
   ],
   "source": [
    "data.describe()"
   ]
  },
  {
   "cell_type": "markdown",
   "metadata": {},
   "source": [
    "<br>"
   ]
  },
  {
   "cell_type": "markdown",
   "metadata": {},
   "source": [
    "The names of the countries that the dataset is representing:"
   ]
  },
  {
   "cell_type": "code",
   "execution_count": 160,
   "metadata": {},
   "outputs": [
    {
     "data": {
      "text/plain": [
       "array(['Sweden', 'Australia', 'Austria', 'New Zealand', 'Portugal',\n",
       "       'United States', 'Venezuela (Bolivarian Rep. of)', 'Japan',\n",
       "       'Colombia', 'Germany', 'Poland', 'Greece', 'Mauritius', 'Finland',\n",
       "       'United Kingdom', 'Hungary', 'Korea, Republic of', 'Singapore',\n",
       "       'Mexico', 'Philippines', 'Czechia', 'Estonia',\n",
       "       'Iran (Islamic Rep. of)', 'France', 'Slovakia', 'Bulgaria'],\n",
       "      dtype=object)"
      ]
     },
     "execution_count": 160,
     "metadata": {},
     "output_type": "execute_result"
    }
   ],
   "source": [
    "data.country_english_name.unique()"
   ]
  },
  {
   "cell_type": "markdown",
   "metadata": {},
   "source": [
    "As we can see above, the country makeup leans heavily towards Europe, with a few South American countries, a few North American Countries, and a few from Asia. "
   ]
  },
  {
   "cell_type": "markdown",
   "metadata": {},
   "source": [
    "## Data munging\n",
    "Place your **data munging** code and documentation within this section.  \n",
    "- Keep each of your Code cells short and focused on a single task.  \n",
    "- Include a Markdown cell above each code cell that describes what task the code within the code cell is performing.\n",
    "- Make as many code cells as you need to complete the munging - a few have been created for you to start with.\n",
    "- Display 5 sample rows of the modified data after each transformation so a viewer can see how the data has changed.\n",
    "\n",
    "**Note**: If you believe that your data set does not require any munging, please explain in detail.  Create Markdown cells that explain your thinking and create Code cells that show any specific structures of the data you refer to in your explanation."
   ]
  },
  {
   "cell_type": "markdown",
   "metadata": {},
   "source": [
    "There are a few columns in the beginning that give details about this table in reference to another series of tables, not relavant to our analysis. I am removing them here. "
   ]
  },
  {
   "cell_type": "code",
   "execution_count": 168,
   "metadata": {},
   "outputs": [],
   "source": [
    "del data['series_type']\n",
    "del data['table_type']\n",
    "del data['table_type_desc']"
   ]
  },
  {
   "cell_type": "markdown",
   "metadata": {},
   "source": [
    "Let us look for and delete NA values in our dataset"
   ]
  },
  {
   "cell_type": "code",
   "execution_count": 243,
   "metadata": {},
   "outputs": [],
   "source": [
    "data = data.dropna(subset=['value', 'trade_flow'])"
   ]
  },
  {
   "cell_type": "markdown",
   "metadata": {},
   "source": [
    "From our data.describe command earlier, we can see that the currency_type column and the value_unit column are both just nan, so we drop those too. "
   ]
  },
  {
   "cell_type": "code",
   "execution_count": 174,
   "metadata": {},
   "outputs": [
    {
     "name": "stdout",
     "output_type": "stream",
     "text": [
      "[nan]\n",
      "[nan]\n"
     ]
    }
   ],
   "source": [
    "print(data.currency_type.unique())\n",
    "print(data.value_unit.unique())"
   ]
  },
  {
   "cell_type": "code",
   "execution_count": 175,
   "metadata": {},
   "outputs": [],
   "source": [
    "del data['currency_type']\n",
    "del data['value_unit']"
   ]
  },
  {
   "cell_type": "markdown",
   "metadata": {},
   "source": [
    "## Data analysis\n",
    "Place your **data analysis** code and documentation within this section.\n",
    "- Perform at least 5 different statistical or other analyses of different aspects of the data.\n",
    "    - Your analyses must be specific and relevant to your chosen data set and show interesting aspects of it.\n",
    "    - Include at least one analysis that includes grouping rows by a shared attribute and performing some kind of statistical analysis on each group.\n",
    "    - Sort the data in at least 1 of your analyses, but sort on its own does not constitute an analysis on its own.\n",
    "- Keep each of your Code cells short and focused on a single task.\n",
    "- Include a Markdown cell above each Code cell that describes what task the code within the Code cell is performing.\n",
    "- Make as many code cells as you need to complete the analysis - a few have been created for you to start with."
   ]
  },
  {
   "cell_type": "markdown",
   "metadata": {},
   "source": [
    "### 1. Top 3 export countries and bottom 3 export countries:"
   ]
  },
  {
   "cell_type": "code",
   "execution_count": 196,
   "metadata": {},
   "outputs": [
    {
     "data": {
      "text/html": [
       "<div>\n",
       "<style scoped>\n",
       "    .dataframe tbody tr th:only-of-type {\n",
       "        vertical-align: middle;\n",
       "    }\n",
       "\n",
       "    .dataframe tbody tr th {\n",
       "        vertical-align: top;\n",
       "    }\n",
       "\n",
       "    .dataframe thead th {\n",
       "        text-align: right;\n",
       "    }\n",
       "</style>\n",
       "<table border=\"1\" class=\"dataframe\">\n",
       "  <thead>\n",
       "    <tr style=\"text-align: right;\">\n",
       "      <th></th>\n",
       "      <th>country_code</th>\n",
       "      <th>country_type</th>\n",
       "      <th>country_english_name</th>\n",
       "      <th>year</th>\n",
       "      <th>period_type</th>\n",
       "      <th>period_number</th>\n",
       "      <th>period</th>\n",
       "      <th>period_in_date</th>\n",
       "      <th>trade_flow</th>\n",
       "      <th>trade_flow_desc</th>\n",
       "      <th>commodity_group_code</th>\n",
       "      <th>commodity_group_name</th>\n",
       "      <th>partner_country_code</th>\n",
       "      <th>partner_country_english_name</th>\n",
       "      <th>base_year</th>\n",
       "      <th>value</th>\n",
       "      <th>value_type</th>\n",
       "      <th>value_type_desc</th>\n",
       "      <th>estimation_type</th>\n",
       "      <th>estimation_type_desc</th>\n",
       "    </tr>\n",
       "  </thead>\n",
       "  <tbody>\n",
       "    <tr>\n",
       "      <th>2468</th>\n",
       "      <td>170</td>\n",
       "      <td>C</td>\n",
       "      <td>Colombia</td>\n",
       "      <td>2019</td>\n",
       "      <td>A</td>\n",
       "      <td>0</td>\n",
       "      <td>201952</td>\n",
       "      <td>01/01/2019</td>\n",
       "      <td>X</td>\n",
       "      <td>Exports</td>\n",
       "      <td>1</td>\n",
       "      <td>Total</td>\n",
       "      <td>0</td>\n",
       "      <td>World</td>\n",
       "      <td>2000</td>\n",
       "      <td>294.802993</td>\n",
       "      <td>P</td>\n",
       "      <td>Price</td>\n",
       "      <td>C</td>\n",
       "      <td>Calculate</td>\n",
       "    </tr>\n",
       "    <tr>\n",
       "      <th>2424</th>\n",
       "      <td>170</td>\n",
       "      <td>C</td>\n",
       "      <td>Colombia</td>\n",
       "      <td>2018</td>\n",
       "      <td>A</td>\n",
       "      <td>0</td>\n",
       "      <td>201852</td>\n",
       "      <td>01/01/2018</td>\n",
       "      <td>X</td>\n",
       "      <td>Exports</td>\n",
       "      <td>1</td>\n",
       "      <td>Total</td>\n",
       "      <td>0</td>\n",
       "      <td>World</td>\n",
       "      <td>2000</td>\n",
       "      <td>277.381743</td>\n",
       "      <td>P</td>\n",
       "      <td>Price</td>\n",
       "      <td>C</td>\n",
       "      <td>Calculate</td>\n",
       "    </tr>\n",
       "    <tr>\n",
       "      <th>2156</th>\n",
       "      <td>170</td>\n",
       "      <td>C</td>\n",
       "      <td>Colombia</td>\n",
       "      <td>2012</td>\n",
       "      <td>A</td>\n",
       "      <td>0</td>\n",
       "      <td>201252</td>\n",
       "      <td>01/01/2012</td>\n",
       "      <td>X</td>\n",
       "      <td>Exports</td>\n",
       "      <td>1</td>\n",
       "      <td>Total</td>\n",
       "      <td>0</td>\n",
       "      <td>World</td>\n",
       "      <td>2000</td>\n",
       "      <td>260.407999</td>\n",
       "      <td>P</td>\n",
       "      <td>Price</td>\n",
       "      <td>C</td>\n",
       "      <td>Calculate</td>\n",
       "    </tr>\n",
       "  </tbody>\n",
       "</table>\n",
       "</div>"
      ],
      "text/plain": [
       "      country_code country_type country_english_name  year period_type  \\\n",
       "2468           170            C             Colombia  2019           A   \n",
       "2424           170            C             Colombia  2018           A   \n",
       "2156           170            C             Colombia  2012           A   \n",
       "\n",
       "      period_number  period period_in_date trade_flow trade_flow_desc  \\\n",
       "2468              0  201952     01/01/2019          X         Exports   \n",
       "2424              0  201852     01/01/2018          X         Exports   \n",
       "2156              0  201252     01/01/2012          X         Exports   \n",
       "\n",
       "      commodity_group_code commodity_group_name  partner_country_code  \\\n",
       "2468                     1                Total                     0   \n",
       "2424                     1                Total                     0   \n",
       "2156                     1                Total                     0   \n",
       "\n",
       "     partner_country_english_name  base_year       value value_type  \\\n",
       "2468                        World       2000  294.802993          P   \n",
       "2424                        World       2000  277.381743          P   \n",
       "2156                        World       2000  260.407999          P   \n",
       "\n",
       "     value_type_desc estimation_type estimation_type_desc  \n",
       "2468           Price               C            Calculate  \n",
       "2424           Price               C            Calculate  \n",
       "2156           Price               C            Calculate  "
      ]
     },
     "execution_count": 196,
     "metadata": {},
     "output_type": "execute_result"
    }
   ],
   "source": [
    "data[data['trade_flow'] == 'X'].sort_values(by='value', ascending = False).head(3)"
   ]
  },
  {
   "cell_type": "code",
   "execution_count": 197,
   "metadata": {},
   "outputs": [
    {
     "data": {
      "text/html": [
       "<div>\n",
       "<style scoped>\n",
       "    .dataframe tbody tr th:only-of-type {\n",
       "        vertical-align: middle;\n",
       "    }\n",
       "\n",
       "    .dataframe tbody tr th {\n",
       "        vertical-align: top;\n",
       "    }\n",
       "\n",
       "    .dataframe thead th {\n",
       "        text-align: right;\n",
       "    }\n",
       "</style>\n",
       "<table border=\"1\" class=\"dataframe\">\n",
       "  <thead>\n",
       "    <tr style=\"text-align: right;\">\n",
       "      <th></th>\n",
       "      <th>country_code</th>\n",
       "      <th>country_type</th>\n",
       "      <th>country_english_name</th>\n",
       "      <th>year</th>\n",
       "      <th>period_type</th>\n",
       "      <th>period_number</th>\n",
       "      <th>period</th>\n",
       "      <th>period_in_date</th>\n",
       "      <th>trade_flow</th>\n",
       "      <th>trade_flow_desc</th>\n",
       "      <th>commodity_group_code</th>\n",
       "      <th>commodity_group_name</th>\n",
       "      <th>partner_country_code</th>\n",
       "      <th>partner_country_english_name</th>\n",
       "      <th>base_year</th>\n",
       "      <th>value</th>\n",
       "      <th>value_type</th>\n",
       "      <th>value_type_desc</th>\n",
       "      <th>estimation_type</th>\n",
       "      <th>estimation_type_desc</th>\n",
       "    </tr>\n",
       "  </thead>\n",
       "  <tbody>\n",
       "    <tr>\n",
       "      <th>402</th>\n",
       "      <td>616</td>\n",
       "      <td>C</td>\n",
       "      <td>Poland</td>\n",
       "      <td>1968</td>\n",
       "      <td>A</td>\n",
       "      <td>0</td>\n",
       "      <td>196852</td>\n",
       "      <td>01/01/1968</td>\n",
       "      <td>X</td>\n",
       "      <td>Exports</td>\n",
       "      <td>1</td>\n",
       "      <td>Total</td>\n",
       "      <td>0</td>\n",
       "      <td>World</td>\n",
       "      <td>2000</td>\n",
       "      <td>0.072954</td>\n",
       "      <td>P</td>\n",
       "      <td>Price</td>\n",
       "      <td>A</td>\n",
       "      <td>Actual</td>\n",
       "    </tr>\n",
       "    <tr>\n",
       "      <th>430</th>\n",
       "      <td>616</td>\n",
       "      <td>C</td>\n",
       "      <td>Poland</td>\n",
       "      <td>1969</td>\n",
       "      <td>A</td>\n",
       "      <td>0</td>\n",
       "      <td>196952</td>\n",
       "      <td>01/01/1969</td>\n",
       "      <td>X</td>\n",
       "      <td>Exports</td>\n",
       "      <td>1</td>\n",
       "      <td>Total</td>\n",
       "      <td>0</td>\n",
       "      <td>World</td>\n",
       "      <td>2000</td>\n",
       "      <td>0.074493</td>\n",
       "      <td>P</td>\n",
       "      <td>Price</td>\n",
       "      <td>A</td>\n",
       "      <td>Actual</td>\n",
       "    </tr>\n",
       "    <tr>\n",
       "      <th>374</th>\n",
       "      <td>616</td>\n",
       "      <td>C</td>\n",
       "      <td>Poland</td>\n",
       "      <td>1967</td>\n",
       "      <td>A</td>\n",
       "      <td>0</td>\n",
       "      <td>196752</td>\n",
       "      <td>01/01/1967</td>\n",
       "      <td>X</td>\n",
       "      <td>Exports</td>\n",
       "      <td>1</td>\n",
       "      <td>Total</td>\n",
       "      <td>0</td>\n",
       "      <td>World</td>\n",
       "      <td>2000</td>\n",
       "      <td>0.074493</td>\n",
       "      <td>P</td>\n",
       "      <td>Price</td>\n",
       "      <td>A</td>\n",
       "      <td>Actual</td>\n",
       "    </tr>\n",
       "  </tbody>\n",
       "</table>\n",
       "</div>"
      ],
      "text/plain": [
       "     country_code country_type country_english_name  year period_type  \\\n",
       "402           616            C               Poland  1968           A   \n",
       "430           616            C               Poland  1969           A   \n",
       "374           616            C               Poland  1967           A   \n",
       "\n",
       "     period_number  period period_in_date trade_flow trade_flow_desc  \\\n",
       "402              0  196852     01/01/1968          X         Exports   \n",
       "430              0  196952     01/01/1969          X         Exports   \n",
       "374              0  196752     01/01/1967          X         Exports   \n",
       "\n",
       "     commodity_group_code commodity_group_name  partner_country_code  \\\n",
       "402                     1                Total                     0   \n",
       "430                     1                Total                     0   \n",
       "374                     1                Total                     0   \n",
       "\n",
       "    partner_country_english_name  base_year     value value_type  \\\n",
       "402                        World       2000  0.072954          P   \n",
       "430                        World       2000  0.074493          P   \n",
       "374                        World       2000  0.074493          P   \n",
       "\n",
       "    value_type_desc estimation_type estimation_type_desc  \n",
       "402           Price               A               Actual  \n",
       "430           Price               A               Actual  \n",
       "374           Price               A               Actual  "
      ]
     },
     "execution_count": 197,
     "metadata": {},
     "output_type": "execute_result"
    }
   ],
   "source": [
    "data[data['trade_flow'] == 'X'].sort_values(by='value', ascending = True).head(3)"
   ]
  },
  {
   "cell_type": "markdown",
   "metadata": {},
   "source": [
    "### 2. Top 3 import countries and bottom 3 import countries"
   ]
  },
  {
   "cell_type": "code",
   "execution_count": 212,
   "metadata": {
    "scrolled": false
   },
   "outputs": [
    {
     "data": {
      "text/html": [
       "<div>\n",
       "<style scoped>\n",
       "    .dataframe tbody tr th:only-of-type {\n",
       "        vertical-align: middle;\n",
       "    }\n",
       "\n",
       "    .dataframe tbody tr th {\n",
       "        vertical-align: top;\n",
       "    }\n",
       "\n",
       "    .dataframe thead th {\n",
       "        text-align: right;\n",
       "    }\n",
       "</style>\n",
       "<table border=\"1\" class=\"dataframe\">\n",
       "  <thead>\n",
       "    <tr style=\"text-align: right;\">\n",
       "      <th></th>\n",
       "      <th>country_code</th>\n",
       "      <th>country_type</th>\n",
       "      <th>country_english_name</th>\n",
       "      <th>year</th>\n",
       "      <th>period_type</th>\n",
       "      <th>period_number</th>\n",
       "      <th>period</th>\n",
       "      <th>period_in_date</th>\n",
       "      <th>trade_flow</th>\n",
       "      <th>trade_flow_desc</th>\n",
       "      <th>commodity_group_code</th>\n",
       "      <th>commodity_group_name</th>\n",
       "      <th>partner_country_code</th>\n",
       "      <th>partner_country_english_name</th>\n",
       "      <th>base_year</th>\n",
       "      <th>value</th>\n",
       "      <th>value_type</th>\n",
       "      <th>value_type_desc</th>\n",
       "      <th>estimation_type</th>\n",
       "      <th>estimation_type_desc</th>\n",
       "    </tr>\n",
       "  </thead>\n",
       "  <tbody>\n",
       "    <tr>\n",
       "      <th>2329</th>\n",
       "      <td>862</td>\n",
       "      <td>C</td>\n",
       "      <td>Venezuela (Bolivarian Rep. of)</td>\n",
       "      <td>2015</td>\n",
       "      <td>A</td>\n",
       "      <td>0</td>\n",
       "      <td>201552</td>\n",
       "      <td>01/01/2015</td>\n",
       "      <td>M</td>\n",
       "      <td>Imports</td>\n",
       "      <td>1</td>\n",
       "      <td>Total</td>\n",
       "      <td>0</td>\n",
       "      <td>World</td>\n",
       "      <td>2000</td>\n",
       "      <td>5551.177577</td>\n",
       "      <td>P</td>\n",
       "      <td>Price</td>\n",
       "      <td>A</td>\n",
       "      <td>Actual</td>\n",
       "    </tr>\n",
       "    <tr>\n",
       "      <th>2284</th>\n",
       "      <td>862</td>\n",
       "      <td>C</td>\n",
       "      <td>Venezuela (Bolivarian Rep. of)</td>\n",
       "      <td>2014</td>\n",
       "      <td>A</td>\n",
       "      <td>0</td>\n",
       "      <td>201452</td>\n",
       "      <td>01/01/2014</td>\n",
       "      <td>M</td>\n",
       "      <td>Imports</td>\n",
       "      <td>1</td>\n",
       "      <td>Total</td>\n",
       "      <td>0</td>\n",
       "      <td>World</td>\n",
       "      <td>2000</td>\n",
       "      <td>2242.724098</td>\n",
       "      <td>P</td>\n",
       "      <td>Price</td>\n",
       "      <td>A</td>\n",
       "      <td>Actual</td>\n",
       "    </tr>\n",
       "    <tr>\n",
       "      <th>2239</th>\n",
       "      <td>862</td>\n",
       "      <td>C</td>\n",
       "      <td>Venezuela (Bolivarian Rep. of)</td>\n",
       "      <td>2013</td>\n",
       "      <td>A</td>\n",
       "      <td>0</td>\n",
       "      <td>201352</td>\n",
       "      <td>01/01/2013</td>\n",
       "      <td>M</td>\n",
       "      <td>Imports</td>\n",
       "      <td>1</td>\n",
       "      <td>Total</td>\n",
       "      <td>0</td>\n",
       "      <td>World</td>\n",
       "      <td>2000</td>\n",
       "      <td>1622.414256</td>\n",
       "      <td>P</td>\n",
       "      <td>Price</td>\n",
       "      <td>A</td>\n",
       "      <td>Actual</td>\n",
       "    </tr>\n",
       "  </tbody>\n",
       "</table>\n",
       "</div>"
      ],
      "text/plain": [
       "      country_code country_type            country_english_name  year  \\\n",
       "2329           862            C  Venezuela (Bolivarian Rep. of)  2015   \n",
       "2284           862            C  Venezuela (Bolivarian Rep. of)  2014   \n",
       "2239           862            C  Venezuela (Bolivarian Rep. of)  2013   \n",
       "\n",
       "     period_type  period_number  period period_in_date trade_flow  \\\n",
       "2329           A              0  201552     01/01/2015          M   \n",
       "2284           A              0  201452     01/01/2014          M   \n",
       "2239           A              0  201352     01/01/2013          M   \n",
       "\n",
       "     trade_flow_desc  commodity_group_code commodity_group_name  \\\n",
       "2329         Imports                     1                Total   \n",
       "2284         Imports                     1                Total   \n",
       "2239         Imports                     1                Total   \n",
       "\n",
       "      partner_country_code partner_country_english_name  base_year  \\\n",
       "2329                     0                        World       2000   \n",
       "2284                     0                        World       2000   \n",
       "2239                     0                        World       2000   \n",
       "\n",
       "            value value_type value_type_desc estimation_type  \\\n",
       "2329  5551.177577          P           Price               A   \n",
       "2284  2242.724098          P           Price               A   \n",
       "2239  1622.414256          P           Price               A   \n",
       "\n",
       "     estimation_type_desc  \n",
       "2329               Actual  \n",
       "2284               Actual  \n",
       "2239               Actual  "
      ]
     },
     "execution_count": 212,
     "metadata": {},
     "output_type": "execute_result"
    }
   ],
   "source": [
    "data[data['trade_flow']=='M'].sort_values(by='value', ascending = False).head(3)"
   ]
  },
  {
   "cell_type": "code",
   "execution_count": 213,
   "metadata": {},
   "outputs": [
    {
     "data": {
      "text/html": [
       "<div>\n",
       "<style scoped>\n",
       "    .dataframe tbody tr th:only-of-type {\n",
       "        vertical-align: middle;\n",
       "    }\n",
       "\n",
       "    .dataframe tbody tr th {\n",
       "        vertical-align: top;\n",
       "    }\n",
       "\n",
       "    .dataframe thead th {\n",
       "        text-align: right;\n",
       "    }\n",
       "</style>\n",
       "<table border=\"1\" class=\"dataframe\">\n",
       "  <thead>\n",
       "    <tr style=\"text-align: right;\">\n",
       "      <th></th>\n",
       "      <th>country_code</th>\n",
       "      <th>country_type</th>\n",
       "      <th>country_english_name</th>\n",
       "      <th>year</th>\n",
       "      <th>period_type</th>\n",
       "      <th>period_number</th>\n",
       "      <th>period</th>\n",
       "      <th>period_in_date</th>\n",
       "      <th>trade_flow</th>\n",
       "      <th>trade_flow_desc</th>\n",
       "      <th>commodity_group_code</th>\n",
       "      <th>commodity_group_name</th>\n",
       "      <th>partner_country_code</th>\n",
       "      <th>partner_country_english_name</th>\n",
       "      <th>base_year</th>\n",
       "      <th>value</th>\n",
       "      <th>value_type</th>\n",
       "      <th>value_type_desc</th>\n",
       "      <th>estimation_type</th>\n",
       "      <th>estimation_type_desc</th>\n",
       "    </tr>\n",
       "  </thead>\n",
       "  <tbody>\n",
       "    <tr>\n",
       "      <th>41</th>\n",
       "      <td>862</td>\n",
       "      <td>C</td>\n",
       "      <td>Venezuela (Bolivarian Rep. of)</td>\n",
       "      <td>1950</td>\n",
       "      <td>A</td>\n",
       "      <td>0</td>\n",
       "      <td>195052</td>\n",
       "      <td>01/01/1950</td>\n",
       "      <td>M</td>\n",
       "      <td>Imports</td>\n",
       "      <td>1</td>\n",
       "      <td>Total</td>\n",
       "      <td>0</td>\n",
       "      <td>World</td>\n",
       "      <td>2000</td>\n",
       "      <td>0.142725</td>\n",
       "      <td>P</td>\n",
       "      <td>Price</td>\n",
       "      <td>A</td>\n",
       "      <td>Actual</td>\n",
       "    </tr>\n",
       "    <tr>\n",
       "      <th>97</th>\n",
       "      <td>862</td>\n",
       "      <td>C</td>\n",
       "      <td>Venezuela (Bolivarian Rep. of)</td>\n",
       "      <td>1954</td>\n",
       "      <td>A</td>\n",
       "      <td>0</td>\n",
       "      <td>195452</td>\n",
       "      <td>01/01/1954</td>\n",
       "      <td>M</td>\n",
       "      <td>Imports</td>\n",
       "      <td>1</td>\n",
       "      <td>Total</td>\n",
       "      <td>0</td>\n",
       "      <td>World</td>\n",
       "      <td>2000</td>\n",
       "      <td>0.149034</td>\n",
       "      <td>P</td>\n",
       "      <td>Price</td>\n",
       "      <td>A</td>\n",
       "      <td>Actual</td>\n",
       "    </tr>\n",
       "    <tr>\n",
       "      <th>111</th>\n",
       "      <td>862</td>\n",
       "      <td>C</td>\n",
       "      <td>Venezuela (Bolivarian Rep. of)</td>\n",
       "      <td>1955</td>\n",
       "      <td>A</td>\n",
       "      <td>0</td>\n",
       "      <td>195552</td>\n",
       "      <td>01/01/1955</td>\n",
       "      <td>M</td>\n",
       "      <td>Imports</td>\n",
       "      <td>1</td>\n",
       "      <td>Total</td>\n",
       "      <td>0</td>\n",
       "      <td>World</td>\n",
       "      <td>2000</td>\n",
       "      <td>0.150570</td>\n",
       "      <td>P</td>\n",
       "      <td>Price</td>\n",
       "      <td>A</td>\n",
       "      <td>Actual</td>\n",
       "    </tr>\n",
       "  </tbody>\n",
       "</table>\n",
       "</div>"
      ],
      "text/plain": [
       "     country_code country_type            country_english_name  year  \\\n",
       "41            862            C  Venezuela (Bolivarian Rep. of)  1950   \n",
       "97            862            C  Venezuela (Bolivarian Rep. of)  1954   \n",
       "111           862            C  Venezuela (Bolivarian Rep. of)  1955   \n",
       "\n",
       "    period_type  period_number  period period_in_date trade_flow  \\\n",
       "41            A              0  195052     01/01/1950          M   \n",
       "97            A              0  195452     01/01/1954          M   \n",
       "111           A              0  195552     01/01/1955          M   \n",
       "\n",
       "    trade_flow_desc  commodity_group_code commodity_group_name  \\\n",
       "41          Imports                     1                Total   \n",
       "97          Imports                     1                Total   \n",
       "111         Imports                     1                Total   \n",
       "\n",
       "     partner_country_code partner_country_english_name  base_year     value  \\\n",
       "41                      0                        World       2000  0.142725   \n",
       "97                      0                        World       2000  0.149034   \n",
       "111                     0                        World       2000  0.150570   \n",
       "\n",
       "    value_type value_type_desc estimation_type estimation_type_desc  \n",
       "41           P           Price               A               Actual  \n",
       "97           P           Price               A               Actual  \n",
       "111          P           Price               A               Actual  "
      ]
     },
     "execution_count": 213,
     "metadata": {},
     "output_type": "execute_result"
    }
   ],
   "source": [
    "data[data['trade_flow']=='M'].sort_values(by='value', ascending = True).head(3)"
   ]
  },
  {
   "cell_type": "markdown",
   "metadata": {},
   "source": [
    "Interestingly in this case, they're both Venezuala (in different years)."
   ]
  },
  {
   "cell_type": "markdown",
   "metadata": {},
   "source": [
    "<br>"
   ]
  },
  {
   "cell_type": "markdown",
   "metadata": {},
   "source": [
    "### 3. Finding the number of years for which we have data for each country\n",
    "I'm doing this just for importing data. For this, I'll create a separate dataset called `import_data`."
   ]
  },
  {
   "cell_type": "code",
   "execution_count": 223,
   "metadata": {},
   "outputs": [
    {
     "data": {
      "text/plain": [
       "country_english_name\n",
       "Australia                         73\n",
       "Austria                           73\n",
       "Bulgaria                          20\n",
       "Colombia                          50\n",
       "Czechia                           27\n",
       "Estonia                           23\n",
       "Finland                           58\n",
       "France                            22\n",
       "Germany                           63\n",
       "Greece                            59\n",
       "Hungary                           50\n",
       "Iran (Islamic Rep. of)             6\n",
       "Japan                             71\n",
       "Korea, Republic of                50\n",
       "Mauritius                         60\n",
       "Mexico                            41\n",
       "New Zealand                       72\n",
       "Philippines                       17\n",
       "Poland                            61\n",
       "Portugal                          63\n",
       "Singapore                         49\n",
       "Slovakia                          20\n",
       "Sweden                            75\n",
       "United Kingdom                    56\n",
       "United States                     72\n",
       "Venezuela (Bolivarian Rep. of)    68\n",
       "Name: country_english_name, dtype: int64"
      ]
     },
     "execution_count": 223,
     "metadata": {},
     "output_type": "execute_result"
    }
   ],
   "source": [
    "import_data = data[data['trade_flow']=='M']\n",
    "\n",
    "import_data.groupby('country_english_name')['country_english_name'].count()"
   ]
  },
  {
   "cell_type": "markdown",
   "metadata": {},
   "source": [
    "### 4. Mean of Australian import data\n",
    "Since we have the most data for Australia, I'd like to delve deeper into this data.\n",
    "1. Mean overall\n",
    "2. Mean after the year 2000"
   ]
  },
  {
   "cell_type": "code",
   "execution_count": 227,
   "metadata": {},
   "outputs": [
    {
     "data": {
      "text/plain": [
       "54.085911909863015"
      ]
     },
     "execution_count": 227,
     "metadata": {},
     "output_type": "execute_result"
    }
   ],
   "source": [
    "#1. Overall Mean\n",
    "import_data[import_data['country_english_name']=='Australia']['value'].mean()"
   ]
  },
  {
   "cell_type": "code",
   "execution_count": 226,
   "metadata": {},
   "outputs": [
    {
     "data": {
      "text/plain": [
       "96.28121643095237"
      ]
     },
     "execution_count": 226,
     "metadata": {},
     "output_type": "execute_result"
    }
   ],
   "source": [
    "#2. Mean affter teh year 2000. \n",
    "import_data[(import_data['year']>=2000) & (import_data['country_english_name']=='Australia')]['value'].mean()"
   ]
  },
  {
   "cell_type": "markdown",
   "metadata": {},
   "source": [
    "<br>"
   ]
  },
  {
   "cell_type": "markdown",
   "metadata": {},
   "source": [
    "### 5. Import Export Difference\n",
    "I'd like to explore the trade balance of countries over the years, where trade balance = export value - import value. \n",
    "Since import export values aren't given in the same table, I will have to create a new dataframe. \n",
    "Within this, I'll create a new variable called `trade_balance`. "
   ]
  },
  {
   "cell_type": "code",
   "execution_count": 368,
   "metadata": {},
   "outputs": [],
   "source": [
    "tb_data = pd.DataFrame({})"
   ]
  },
  {
   "cell_type": "code",
   "execution_count": 369,
   "metadata": {},
   "outputs": [],
   "source": [
    "#first, just import export data only (we already have a separate import_data dataset)\n",
    "tb_data = data[(data['trade_flow']=='X')]\n",
    "\n",
    "#reset indexes\n",
    "tb_data.reset_index(drop=True, inplace=True)\n"
   ]
  },
  {
   "cell_type": "code",
   "execution_count": 370,
   "metadata": {},
   "outputs": [],
   "source": [
    "#empty series\n",
    "import_list = []\n",
    "\n",
    "for row_num in range(len(tb_data)):\n",
    "    x_row = tb_data.iloc[row_num]\n",
    "#     print(row['email'])\n",
    "    \n",
    "    temp_import_ser = import_data[(import_data['country_english_name']==x_row['country_english_name']) & (import_data['year']==x_row['year'])]['value']\n",
    "    \n",
    "    if len(temp_import_ser) != 0:\n",
    "        temp_import_val = temp_import_ser.to_numpy()[0]\n",
    "        \n",
    "    else:\n",
    "        #\"mismatch\" where we only have data for the exports of that year and not the imports\n",
    "        temp_import_val = np.nan\n",
    "    \n",
    "    import_list.append(temp_import_val)\n",
    "    \n",
    "    "
   ]
  },
  {
   "cell_type": "code",
   "execution_count": 373,
   "metadata": {},
   "outputs": [],
   "source": [
    "import_series = pd.Series(import_list)"
   ]
  },
  {
   "cell_type": "code",
   "execution_count": 374,
   "metadata": {},
   "outputs": [],
   "source": [
    "tb_data = tb_data.assign(import_val=import_series)"
   ]
  },
  {
   "cell_type": "markdown",
   "metadata": {},
   "source": [
    "Now to edit our tb_data table to make it a little more usable:"
   ]
  },
  {
   "cell_type": "code",
   "execution_count": 375,
   "metadata": {},
   "outputs": [],
   "source": [
    "#rename value to 'export_val'\n",
    "tb_data.rename(columns = {'value':'export_val'}, inplace = True)\n",
    "\n",
    "#drop na values from our table\n",
    "tb_data = tb_data.dropna(subset=['import_val'])\n",
    "\n",
    "#remove 'trade_flow', 'trade_flow_desc' since they're no longer relavant\n",
    "del tb_data['trade_flow']\n",
    "del tb_data['trade_flow_desc']\n"
   ]
  },
  {
   "cell_type": "code",
   "execution_count": 376,
   "metadata": {},
   "outputs": [],
   "source": [
    "#adding in the trade_balance variable\n",
    "tb_data['trade_balance'] = tb_data['export_val'] - tb_data['import_val']\n"
   ]
  },
  {
   "cell_type": "code",
   "execution_count": 377,
   "metadata": {},
   "outputs": [
    {
     "data": {
      "text/plain": [
       "0        8.957435\n",
       "1        1.578780\n",
       "2        8.890206\n",
       "3        1.106153\n",
       "4        0.038659\n",
       "          ...    \n",
       "1234   -14.137463\n",
       "1235    18.306588\n",
       "1236   -15.307465\n",
       "1237    29.364108\n",
       "1238   -11.690182\n",
       "Name: trade_balance, Length: 1220, dtype: float64"
      ]
     },
     "execution_count": 377,
     "metadata": {},
     "output_type": "execute_result"
    }
   ],
   "source": [
    "tb_data['trade_balance']"
   ]
  },
  {
   "cell_type": "markdown",
   "metadata": {},
   "source": [
    "<br>"
   ]
  },
  {
   "cell_type": "markdown",
   "metadata": {},
   "source": [
    "### 6. Running group aggregate functions with trade balance"
   ]
  },
  {
   "cell_type": "code",
   "execution_count": 379,
   "metadata": {},
   "outputs": [
    {
     "data": {
      "text/plain": [
       "country_english_name\n",
       "Philippines              -13.303002\n",
       "Korea, Republic of       -13.266276\n",
       "Finland                   -7.439427\n",
       "Mauritius                 -5.951089\n",
       "Austria                   -3.372776\n",
       "Greece                    -2.999369\n",
       "Germany                   -2.724368\n",
       "Sweden                    -1.443861\n",
       "Hungary                   -0.554392\n",
       "Portugal                   0.286648\n",
       "United Kingdom             1.301712\n",
       "United States              1.570354\n",
       "Poland                     3.182013\n",
       "France                     3.284053\n",
       "New Zealand                3.591275\n",
       "Czechia                    3.856527\n",
       "Singapore                  4.206152\n",
       "Japan                      6.136791\n",
       "Mexico                     8.777382\n",
       "Iran (Islamic Rep. of)    13.054467\n",
       "Bulgaria                  15.299185\n",
       "Slovakia                  18.491865\n",
       "Australia                 20.459337\n",
       "Colombia                  32.086246\n",
       "Estonia                   44.432768\n",
       "Name: trade_balance, dtype: float64"
      ]
     },
     "execution_count": 379,
     "metadata": {},
     "output_type": "execute_result"
    }
   ],
   "source": [
    "tb_data.groupby('country_english_name')['trade_balance'].mean().sort_values()"
   ]
  },
  {
   "cell_type": "markdown",
   "metadata": {},
   "source": [
    "Countries that have a positive trade balance are in a \"trade surplus\". Countries with a negative trade balance are in a \"trade deficit\". "
   ]
  },
  {
   "cell_type": "markdown",
   "metadata": {},
   "source": [
    "Let us look at a more recent estimate, for years after 2016:"
   ]
  },
  {
   "cell_type": "code",
   "execution_count": 391,
   "metadata": {},
   "outputs": [
    {
     "data": {
      "text/plain": [
       "country_english_name\n",
       "Korea, Republic of    -59.875396\n",
       "Japan                 -41.547919\n",
       "Finland               -29.217001\n",
       "Singapore             -15.640743\n",
       "Sweden                -12.828024\n",
       "Mexico                -10.700052\n",
       "Greece                -10.263126\n",
       "Austria                -7.717835\n",
       "United States          -5.555549\n",
       "Hungary                -5.175694\n",
       "Mauritius              -4.305242\n",
       "Germany                -1.281544\n",
       "United Kingdom          0.241819\n",
       "Czechia                 5.413527\n",
       "France                 16.879196\n",
       "Poland                 17.966243\n",
       "Bulgaria               27.401335\n",
       "Slovakia               27.860348\n",
       "New Zealand            36.555338\n",
       "Estonia                60.526542\n",
       "Australia              85.703237\n",
       "Colombia              108.076656\n",
       "Name: trade_balance, dtype: float64"
      ]
     },
     "execution_count": 391,
     "metadata": {},
     "output_type": "execute_result"
    }
   ],
   "source": [
    "tb_data[tb_data['year']> 2016].groupby('country_english_name')['trade_balance'].mean().sort_values()"
   ]
  },
  {
   "cell_type": "markdown",
   "metadata": {},
   "source": [
    "<br>"
   ]
  },
  {
   "cell_type": "markdown",
   "metadata": {},
   "source": [
    "## Data visualization\n",
    "In this section, you will create a few **visualizations** that show some of the insights you have gathered from this data.\n",
    "- Create at least 5 different visualizations, where each visualization shows different insights into the data.\n",
    "- Use at least 3 different visualization types (e.g. bar charts, line charts, stacked area charts, pie charts, etc)\n",
    "- Create a Markdown cell and a Code cell for each, where you explain and show the visualizations, respectively.\n",
    "- Create as many additional cells as you need to prepare the data for the visualizations."
   ]
  },
  {
   "cell_type": "markdown",
   "metadata": {},
   "source": [
    "### 1. Plotting Export values for the year 2010"
   ]
  },
  {
   "cell_type": "code",
   "execution_count": 433,
   "metadata": {},
   "outputs": [],
   "source": [
    "exports_2010 = data[(data['year']==2010) & (data['trade_flow']=='X')][['value', 'country_english_name']]\n",
    "exports_2010 = exports_2010.set_index('country_english_name')"
   ]
  },
  {
   "cell_type": "code",
   "execution_count": 437,
   "metadata": {},
   "outputs": [
    {
     "data": {
      "text/plain": [
       "<AxesSubplot:ylabel='country_english_name'>"
      ]
     },
     "execution_count": 437,
     "metadata": {},
     "output_type": "execute_result"
    },
    {
     "data": {
      "image/png": "[encoded data removed]",
      "text/plain": [
       "<Figure size 432x288 with 1 Axes>"
      ]
     },
     "metadata": {
      "needs_background": "light"
     },
     "output_type": "display_data"
    }
   ],
   "source": [
    "exports_2010.plot.barh(y=\"value\")"
   ]
  },
  {
   "cell_type": "markdown",
   "metadata": {},
   "source": [
    "### 2. Plotting Australia's export, import, and trade balance values"
   ]
  },
  {
   "cell_type": "code",
   "execution_count": 414,
   "metadata": {},
   "outputs": [],
   "source": [
    "australia_viz_df = pd.DataFrame({\n",
    "    'export values': tb_data[tb_data['country_english_name']=='Australia']['export_val'],\n",
    "    'import values': tb_data[tb_data['country_english_name']=='Australia']['import_val'],\n",
    "    'trade balance': tb_data[tb_data['country_english_name']=='Australia']['trade_balance'],\n",
    "    'year': tb_data[tb_data['country_english_name']=='Australia']['year']\n",
    "})\n",
    "#reset index\n",
    "australia_viz_df.reset_index(drop=True, inplace=True)\n",
    "#, index = list(tb_data[tb_data['country_english_name']=='Australia']['year']))"
   ]
  },
  {
   "cell_type": "code",
   "execution_count": 462,
   "metadata": {},
   "outputs": [
    {
     "data": {
      "text/plain": [
       "<matplotlib.legend.Legend at 0x7fc6d78e95e0>"
      ]
     },
     "execution_count": 462,
     "metadata": {},
     "output_type": "execute_result"
    },
    {
     "data": {
      "image/png": "[encoded data removed]",
      "text/plain": [
       "<Figure size 432x288 with 1 Axes>"
      ]
     },
     "metadata": {
      "needs_background": "light"
     },
     "output_type": "display_data"
    }
   ],
   "source": [
    "plt.plot(australia_viz_df.iloc[:, 3], australia_viz_df.iloc[:, 0], label = 'export values')\n",
    "plt.plot(australia_viz_df.iloc[:, 3], australia_viz_df.iloc[:, 1], label = 'import values')\n",
    "plt.plot(australia_viz_df.iloc[:, 3], australia_viz_df.iloc[:, 2], label = 'trade balance')\n",
    "plt.xlabel(\"Years\")\n",
    "plt.ylabel(\"Values\")\n",
    "plt.title(\"Australia trade values\")\n",
    "plt.legend()"
   ]
  },
  {
   "cell_type": "markdown",
   "metadata": {},
   "source": [
    "<br>"
   ]
  },
  {
   "cell_type": "markdown",
   "metadata": {},
   "source": [
    "### 3. Plotting mean trade balance of all countries"
   ]
  },
  {
   "cell_type": "code",
   "execution_count": 440,
   "metadata": {},
   "outputs": [
    {
     "data": {
      "text/plain": [
       "<AxesSubplot:xlabel='country_english_name'>"
      ]
     },
     "execution_count": 440,
     "metadata": {},
     "output_type": "execute_result"
    },
    {
     "data": {
      "image/png": "[encoded data removed]",
      "text/plain": [
       "<Figure size 432x288 with 1 Axes>"
      ]
     },
     "metadata": {
      "needs_background": "light"
     },
     "output_type": "display_data"
    }
   ],
   "source": [
    "mean_tb = tb_data.groupby('country_english_name')['trade_balance'].mean()\n",
    "mean_tb.plot.bar()"
   ]
  },
  {
   "cell_type": "markdown",
   "metadata": {},
   "source": [
    "<br>"
   ]
  },
  {
   "cell_type": "markdown",
   "metadata": {},
   "source": [
    "### 4. Area chart of countries' exports and imports"
   ]
  },
  {
   "cell_type": "code",
   "execution_count": 464,
   "metadata": {},
   "outputs": [],
   "source": [
    "area_df = pd.DataFrame({\n",
    "    'export values': tb_data['export_val'],\n",
    "    'import values': tb_data['import_val'],\n",
    "#     'trade balance': tb_data['trade_balance'],\n",
    "    'year': tb_data['year']\n",
    "})\n",
    "#reset index\n",
    "area_df.reset_index(drop=True, inplace=True)\n",
    "area_df = area_df.set_index('year')"
   ]
  },
  {
   "cell_type": "code",
   "execution_count": 465,
   "metadata": {},
   "outputs": [
    {
     "data": {
      "text/plain": [
       "<AxesSubplot:xlabel='Years', ylabel='Values'>"
      ]
     },
     "execution_count": 465,
     "metadata": {},
     "output_type": "execute_result"
    },
    {
     "data": {
      "image/png": "[encoded data removed]",
      "text/plain": [
       "<Figure size 432x288 with 1 Axes>"
      ]
     },
     "metadata": {
      "needs_background": "light"
     },
     "output_type": "display_data"
    }
   ],
   "source": [
    "area_df.plot.area(\n",
    "    xlabel='Years', \n",
    "    ylabel='Values', \n",
    "#     stacked=False #because there are negative values in the TB\n",
    ")"
   ]
  },
  {
   "cell_type": "markdown",
   "metadata": {},
   "source": [
    "With Trade Balance"
   ]
  },
  {
   "cell_type": "code",
   "execution_count": 466,
   "metadata": {},
   "outputs": [
    {
     "data": {
      "text/plain": [
       "<AxesSubplot:xlabel='Years', ylabel='Values'>"
      ]
     },
     "execution_count": 466,
     "metadata": {},
     "output_type": "execute_result"
    },
    {
     "data": {
      "image/png": "[encoded data removed]",
      "text/plain": [
       "<Figure size 432x288 with 1 Axes>"
      ]
     },
     "metadata": {
      "needs_background": "light"
     },
     "output_type": "display_data"
    }
   ],
   "source": [
    "area_df = pd.DataFrame({\n",
    "    'export values': tb_data['export_val'],\n",
    "    'import values': tb_data['import_val'],\n",
    "     'trade balance': tb_data['trade_balance'],\n",
    "    'year': tb_data['year']\n",
    "})\n",
    "#reset index\n",
    "area_df.reset_index(drop=True, inplace=True)\n",
    "area_df = area_df.set_index('year')\n",
    "\n",
    "area_df.plot.area(\n",
    "    xlabel='Years', \n",
    "    ylabel='Values', \n",
    "     stacked=False #because there are negative values in the TB\n",
    ")"
   ]
  },
  {
   "cell_type": "markdown",
   "metadata": {},
   "source": [
    "### 5. Pie chart of import share for the year 2010"
   ]
  },
  {
   "cell_type": "code",
   "execution_count": 502,
   "metadata": {},
   "outputs": [],
   "source": [
    "import2010_series = data[(data['year']==2010) & (data['trade_flow']=='M')]\n",
    "import2010_vals = import2010_series['value']\n",
    "total = sum(import2010_series['value'].to_numpy())\n",
    "share_list = import2010_series['value']/total"
   ]
  },
  {
   "cell_type": "code",
   "execution_count": 503,
   "metadata": {},
   "outputs": [],
   "source": [
    "piechart_df = pd.DataFrame({\n",
    "    'countries': data[(data['year']==2010) & (data['trade_flow']=='M')]['country_english_name'],\n",
    "    'shares': (share_list)\n",
    "})\n",
    "\n",
    "piechart_df = piechart_df.set_index('countries')"
   ]
  },
  {
   "cell_type": "code",
   "execution_count": 504,
   "metadata": {},
   "outputs": [
    {
     "data": {
      "text/plain": [
       "<AxesSubplot:ylabel='shares'>"
      ]
     },
     "execution_count": 504,
     "metadata": {},
     "output_type": "execute_result"
    },
    {
     "data": {
      "image/png": "[encoded data removed]",
      "text/plain": [
       "<Figure size 432x288 with 1 Axes>"
      ]
     },
     "metadata": {},
     "output_type": "display_data"
    }
   ],
   "source": [
    "piechart_df.plot.pie(y='shares', legend=False)"
   ]
  }
 ],
 "metadata": {
  "kernelspec": {
   "display_name": "Python 3",
   "language": "python",
   "name": "python3"
  },
  "language_info": {
   "codemirror_mode": {
    "name": "ipython",
    "version": 3
   },
   "file_extension": ".py",
   "mimetype": "text/x-python",
   "name": "python",
   "nbconvert_exporter": "python",
   "pygments_lexer": "ipython3",
   "version": "3.8.8"
  }
 },
 "nbformat": 4,
 "nbformat_minor": 4
}
